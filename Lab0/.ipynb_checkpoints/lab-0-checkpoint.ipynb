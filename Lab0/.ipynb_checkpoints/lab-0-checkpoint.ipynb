{
 "cells": [
  {
   "cell_type": "markdown",
   "metadata": {},
   "source": [
    "# Learning and Decision Making"
   ]
  },
  {
   "cell_type": "markdown",
   "metadata": {},
   "source": [
    "## Laboratory 0: Introduction to scientific computation with Python\n",
    "\n",
    "Each lab handout will consist of a Jupyter notebook like the present one, and will initiate with the following saying:\n",
    "\n",
    "_\"In the end of the lab, you should export the notebook to a Python script (File >> Download as >> Python (.py)). Make sure that the resulting script includes all code written in the tasks marked as \"Activity n. XXX\", together with any replies to specific questions posed. Your file should be named `padi-labKK-groupXX.py`, where `KK` corresponds to the lab number and the `XX` corresponds to your group number. Similarly, your homework should consist of a single pdf file named `padi-hwKK-groupXX.pdf`. You should create a zip file with the lab and homework files and submit it in Fenix **at most 30 minutes after your lab is over**._\n",
    "\n",
    "_Make sure to strictly respect the specifications in each activity, in terms of the intended inputs, outputs and naming conventions._\n",
    "\n",
    "_In particular, after completing the activities you should be able to replicate the examples provided (although this, in itself, is no guarantee that the activities are correctly completed).\"_\n",
    "\n",
    "Today you can disregard the saying above ☺️\n",
    "\n",
    "### 1. Basic interaction\n",
    "\n",
    "When you are programming in a Jupyter notebook such as this, you will observe blocks of text preceeded by `In [ ]:` and `Out [ ]:`. These are blocks where you can insert Python code (the \"In\" blocks), and whose result you can observe as you press \"Shift+Enter\" (in the \"Out\" blocks).\n",
    "\n",
    "For example, try that in the block below."
   ]
  },
  {
   "cell_type": "code",
   "execution_count": 1,
   "metadata": {
    "ExecuteTime": {
     "end_time": "2022-03-13T19:53:20.183061Z",
     "start_time": "2022-03-13T19:53:20.179571Z"
    }
   },
   "outputs": [
    {
     "name": "stdout",
     "output_type": "stream",
     "text": [
      "Hello, world!\n"
     ]
    }
   ],
   "source": [
    "s = \"Hello, world!\"\n",
    "print(s)"
   ]
  },
  {
   "cell_type": "markdown",
   "metadata": {},
   "source": [
    "Since you are programming in Python, all your standard primitives are available. You can use conditionals, cycles, inputs and outputs, etc. You also have available all standard Python modules."
   ]
  },
  {
   "cell_type": "code",
   "execution_count": 2,
   "metadata": {
    "ExecuteTime": {
     "end_time": "2022-03-13T19:53:22.418806Z",
     "start_time": "2022-03-13T19:53:20.188998Z"
    }
   },
   "outputs": [
    {
     "name": "stdout",
     "output_type": "stream",
     "text": [
      "0 radians correspond to 0.0 degrees.\n",
      "0.5 radians correspond to 28.64788975654116 degrees.\n",
      "1.0 radians correspond to 57.29577951308232 degrees.\n",
      "1.5 radians correspond to 85.94366926962348 degrees.\n",
      "2.0 radians correspond to 114.59155902616465 degrees.\n",
      "2.5 radians correspond to 143.2394487827058 degrees.\n",
      "3.0 radians correspond to 171.88733853924697 degrees.\n",
      "3.5 radians correspond to 200.53522829578813 degrees.\n",
      "4.0 radians correspond to 229.1831180523293 degrees.\n",
      "4.5 radians correspond to 257.8310078088705 degrees.\n",
      "5.0 radians correspond to 286.4788975654116 degrees.\n",
      "5.5 radians correspond to 315.1267873219528 degrees.\n",
      "6.0 radians correspond to 343.77467707849394 degrees.\n",
      "Next square root: 5.830951894845301\n",
      "Next square root: 2.414736402766418\n",
      "Next square root: 1.5539422134578937\n",
      "Next square root: 1.246572185418034\n",
      "Next square root: 1.1164999710783847\n",
      "1.1164999710783847 is larger than 1.\n"
     ]
    }
   ],
   "source": [
    "import math\n",
    "\n",
    "a = 0\n",
    "\n",
    "# Print a radian --> degree conversion table\n",
    "while a < 2 * math.pi: \n",
    "    print(a, \"radians correspond to\", a * 180 / math.pi, \"degrees.\")\n",
    "    a = a + 0.5\n",
    "\n",
    "a = input(\"Please insert a number:\\n>> \")\n",
    "\n",
    "for i in range(5):\n",
    "    a = math.sqrt(float(a))\n",
    "    print(\"Next square root:\", a)\n",
    "\n",
    "if a > 1:\n",
    "    print(a, \"is larger than 1.\") \n",
    "else: \n",
    "    print(a, \"is smaller than or equal to 1.\")"
   ]
  },
  {
   "cell_type": "markdown",
   "metadata": {},
   "source": [
    "And, of course, you can define functions."
   ]
  },
  {
   "cell_type": "code",
   "execution_count": 3,
   "metadata": {
    "ExecuteTime": {
     "end_time": "2022-03-13T19:53:22.425139Z",
     "start_time": "2022-03-13T19:53:22.421795Z"
    }
   },
   "outputs": [
    {
     "name": "stdout",
     "output_type": "stream",
     "text": [
      "4\n"
     ]
    }
   ],
   "source": [
    "def square(x):\n",
    "    return x * x\n",
    "\n",
    "print(square(2))"
   ]
  },
  {
   "cell_type": "markdown",
   "metadata": {},
   "source": [
    "One important aspect that you should keep in mind is that running a notebook such as this one essentially corresponds to a sequential interaction with the Python interpreter---namely, the same scope rules apply. In particular, if you define a variable in a certain \"In\" block and run that block, that same variable will be accessible in posterior evaluations. Therefore, to avoid strange outputs resulting from \"legacy\" evaluations make sure that you evaluate the \"In\" blocks in sequence (by pressing Shift+Enter in each block) from scratch."
   ]
  },
  {
   "cell_type": "code",
   "execution_count": 4,
   "metadata": {
    "ExecuteTime": {
     "end_time": "2022-03-13T19:53:22.436658Z",
     "start_time": "2022-03-13T19:53:22.431161Z"
    }
   },
   "outputs": [
    {
     "name": "stdout",
     "output_type": "stream",
     "text": [
      "The variable s is accessible here: Hello, world!\n"
     ]
    }
   ],
   "source": [
    "print(\"The variable s is accessible here:\", s)"
   ]
  },
  {
   "cell_type": "markdown",
   "metadata": {},
   "source": [
    "### 2. Matrices\n",
    "\n",
    "In your scientific computation you will use three main python libraries: **numpy**, **scipy** and **matplotlib**. The first contains a large collection of numeric types and functions, particularly for matrix manipulation. The second contains a large number of scientific computation utilities (such as optimization sub-modules, etc.). Finally, the third includes plotting functionalities. \n",
    "\n",
    "Your work in these labs will involve some level of data manipulation which is done, essentially, in the form of matrix manipulation. In particular, you will use the vast number of matrix manipulation operations offered by **numpy** that, if used proficiently, render computations significantly faster.\n",
    "\n",
    "Matrices in **numpy** are represented by the type `numpy.array`. The array is initialized as a list of lists, each corresponding to a row of the matrix. There are also several commands to create particular\n",
    "matrices, such as the identity (`eye`), an all-zeros matrix (`zeros`) or an all-ones matrix (`ones`). Note that, although a `numpy.matrix` type also exists, **we will not use it** and rather rely on the simpler `numpy.array`."
   ]
  },
  {
   "cell_type": "code",
   "execution_count": 5,
   "metadata": {
    "ExecuteTime": {
     "end_time": "2022-03-13T19:53:22.823301Z",
     "start_time": "2022-03-13T19:53:22.442260Z"
    }
   },
   "outputs": [
    {
     "name": "stdout",
     "output_type": "stream",
     "text": [
      "2 x 3 array of numbers:\n",
      "[[1 2 3]\n",
      " [4 5 6]]\n",
      "This array is of dimension (2, 3)\n"
     ]
    }
   ],
   "source": [
    "import numpy as np\n",
    "\n",
    "A1 = np.array([[1, 2, 3], [4, 5, 6]])\n",
    "print(\"2 x 3 array of numbers:\")\n",
    "print(A1)\n",
    "print(\"This array is of dimension\", A1.shape)"
   ]
  },
  {
   "cell_type": "code",
   "execution_count": 6,
   "metadata": {
    "ExecuteTime": {
     "end_time": "2022-03-13T19:53:22.823301Z",
     "start_time": "2022-03-13T19:53:22.442260Z"
    }
   },
   "outputs": [
    {
     "name": "stdout",
     "output_type": "stream",
     "text": [
      "3 x 3 identity:\n",
      "[[1. 0. 0.]\n",
      " [0. 1. 0.]\n",
      " [0. 0. 1.]]\n",
      "This array is of dimension (3, 3)\n"
     ]
    }
   ],
   "source": [
    "A2 = np.eye(3)\n",
    "print(\"3 x 3 identity:\")\n",
    "print(A2)\n",
    "print(\"This array is of dimension\", A2.shape)"
   ]
  },
  {
   "cell_type": "code",
   "execution_count": 7,
   "metadata": {
    "ExecuteTime": {
     "end_time": "2022-03-13T19:53:22.823301Z",
     "start_time": "2022-03-13T19:53:22.442260Z"
    }
   },
   "outputs": [
    {
     "name": "stdout",
     "output_type": "stream",
     "text": [
      "2 x 3 array of zeros:\n",
      "[[0. 0. 0.]\n",
      " [0. 0. 0.]]\n",
      "This array is of dimension (2, 3)\n"
     ]
    }
   ],
   "source": [
    "A3 = np.zeros((2, 3))\n",
    "print(\"2 x 3 array of zeros:\")\n",
    "print(A3)\n",
    "print(\"This array is of dimension\", A3.shape)"
   ]
  },
  {
   "cell_type": "code",
   "execution_count": 8,
   "metadata": {
    "ExecuteTime": {
     "end_time": "2022-03-13T19:53:22.823301Z",
     "start_time": "2022-03-13T19:53:22.442260Z"
    }
   },
   "outputs": [
    {
     "name": "stdout",
     "output_type": "stream",
     "text": [
      "4 x 0 array of ones (note how there is no second dimension):\n",
      "[1. 1. 1. 1.]\n",
      "This array is of dimension (4,)\n"
     ]
    }
   ],
   "source": [
    "A4 = np.ones(4);\n",
    "print(\"4 x 0 array of ones (note how there is no second dimension):\")\n",
    "print(A4)\n",
    "print(\"This array is of dimension\", A4.shape)"
   ]
  },
  {
   "cell_type": "markdown",
   "metadata": {},
   "source": [
    "You can now easily perform standard algebraic operations, such as matrix sums or products. You can also perform indexing, slicing, and other operations, as illustrated in the following examples."
   ]
  },
  {
   "cell_type": "code",
   "execution_count": 9,
   "metadata": {
    "ExecuteTime": {
     "end_time": "2022-03-13T19:53:22.831135Z",
     "start_time": "2022-03-13T19:53:22.825492Z"
    }
   },
   "outputs": [
    {
     "name": "stdout",
     "output_type": "stream",
     "text": [
      "3 x 3 matrix:\n",
      "[[1 2 3]\n",
      " [4 5 6]\n",
      " [7 8 9]]\n",
      "int32\n",
      "[[1. 2. 3.]\n",
      " [4. 5. 6.]\n",
      " [7. 8. 9.]]\n",
      "float64\n"
     ]
    }
   ],
   "source": [
    "# = Matrix creation = #\n",
    "\n",
    "A = np.array([[1, 2, 3], [4, 5, 6], [7, 8, 9]])\n",
    "print(\"3 x 3 matrix:\")\n",
    "print(A)\n",
    "\n",
    "# You can explicitly indicate the array data type with the optional argument \"dtype\"\n",
    "print(A.dtype)\n",
    "\n",
    "A = np.array([[1, 2, 3], [4, 5, 6], [7, 8, 9]], dtype='float64')\n",
    "print(A)\n",
    "print(A.dtype)"
   ]
  },
  {
   "cell_type": "code",
   "execution_count": 10,
   "metadata": {
    "ExecuteTime": {
     "end_time": "2022-03-13T19:53:22.837396Z",
     "start_time": "2022-03-13T19:53:22.833296Z"
    }
   },
   "outputs": [
    {
     "name": "stdout",
     "output_type": "stream",
     "text": [
      "Vector with all numbers between 1 and 3:\n",
      "[1 2 3]\n"
     ]
    }
   ],
   "source": [
    "B = np.arange(1,4)\n",
    "print(\"Vector with all numbers between 1 and 3:\")\n",
    "print(B)"
   ]
  },
  {
   "cell_type": "code",
   "execution_count": 11,
   "metadata": {
    "ExecuteTime": {
     "end_time": "2022-03-13T19:53:22.844400Z",
     "start_time": "2022-03-13T19:53:22.840237Z"
    }
   },
   "outputs": [
    {
     "name": "stdout",
     "output_type": "stream",
     "text": [
      "Diagonal matrix built from the vector B:\n",
      "[[1 0 0]\n",
      " [0 2 0]\n",
      " [0 0 3]]\n"
     ]
    }
   ],
   "source": [
    "C = np.diag(B)\n",
    "print(\"Diagonal matrix built from the vector B:\")\n",
    "print(C)"
   ]
  },
  {
   "cell_type": "code",
   "execution_count": 12,
   "metadata": {
    "ExecuteTime": {
     "end_time": "2022-03-13T19:53:22.857894Z",
     "start_time": "2022-03-13T19:53:22.850623Z"
    }
   },
   "outputs": [
    {
     "name": "stdout",
     "output_type": "stream",
     "text": [
      "A + I:\n",
      "[[ 2.  2.  3.]\n",
      " [ 4.  6.  6.]\n",
      " [ 7.  8. 10.]]\n"
     ]
    }
   ],
   "source": [
    "# = Matrix operations = #\n",
    "\n",
    "# Sum\n",
    "D = A + np.eye(3)\n",
    "print(\"A + I:\")\n",
    "print(D)"
   ]
  },
  {
   "cell_type": "code",
   "execution_count": 13,
   "metadata": {
    "ExecuteTime": {
     "end_time": "2022-03-13T19:53:22.866300Z",
     "start_time": "2022-03-13T19:53:22.861596Z"
    }
   },
   "outputs": [
    {
     "name": "stdout",
     "output_type": "stream",
     "text": [
      "A * B':\n",
      "[14. 32. 50.]\n"
     ]
    }
   ],
   "source": [
    "# Vector transpose and regular matrix product\n",
    "E = np.dot(A, B.T)\n",
    "print(\"A * B':\")\n",
    "print(E)"
   ]
  },
  {
   "cell_type": "code",
   "execution_count": 14,
   "metadata": {
    "ExecuteTime": {
     "end_time": "2022-03-13T19:53:22.874313Z",
     "start_time": "2022-03-13T19:53:22.869453Z"
    }
   },
   "outputs": [
    {
     "name": "stdout",
     "output_type": "stream",
     "text": [
      "inv(D):\n",
      "[[-6.00000000e+00 -2.00000000e+00  3.00000000e+00]\n",
      " [-1.00000000e+00  5.00000000e-01  2.22044605e-17]\n",
      " [ 5.00000000e+00  1.00000000e+00 -2.00000000e+00]]\n"
     ]
    }
   ],
   "source": [
    "# Matrix inverse\n",
    "F = np.linalg.inv(D)\n",
    "print(\"inv(D):\")\n",
    "print(F)"
   ]
  },
  {
   "cell_type": "code",
   "execution_count": 15,
   "metadata": {
    "ExecuteTime": {
     "end_time": "2022-03-13T19:53:22.880890Z",
     "start_time": "2022-03-13T19:53:22.876735Z"
    }
   },
   "outputs": [
    {
     "name": "stdout",
     "output_type": "stream",
     "text": [
      "Append matrix A to vector [1, 2, 3]:\n",
      "[1. 2. 3. 1. 2. 3. 4. 5. 6. 7. 8. 9.]\n"
     ]
    }
   ],
   "source": [
    "# = Matrix concatenation = #\n",
    "\n",
    "G = np.append([1, 2, 3], A)\n",
    "print(\"Append matrix A to vector [1, 2, 3]:\")\n",
    "print(G)"
   ]
  },
  {
   "cell_type": "code",
   "execution_count": 16,
   "metadata": {
    "ExecuteTime": {
     "end_time": "2022-03-13T19:53:22.889103Z",
     "start_time": "2022-03-13T19:53:22.882957Z"
    }
   },
   "outputs": [
    {
     "name": "stdout",
     "output_type": "stream",
     "text": [
      "Append [10, 11, 12] to A:\n",
      "[[ 1.  2.  3.]\n",
      " [ 4.  5.  6.]\n",
      " [ 7.  8.  9.]\n",
      " [10. 11. 12.]]\n",
      "Append [[4], [7], [10]] to A:\n",
      "[[ 1.  2.  3.  4.]\n",
      " [ 4.  5.  6.  7.]\n",
      " [ 7.  8.  9. 10.]]\n"
     ]
    }
   ],
   "source": [
    "# When the axis to append is specified, the \n",
    "# matrices/vectors must have the correct shape\n",
    "\n",
    "H1 = np.append(A, [[10, 11, 12]], axis = 0)\n",
    "H2 = np.append(A, [[4], [7], [10]], axis = 1)\n",
    "print(\"Append [10, 11, 12] to A:\")\n",
    "print(H1)\n",
    "\n",
    "print(\"Append [[4], [7], [10]] to A:\")\n",
    "print(H2)"
   ]
  },
  {
   "cell_type": "code",
   "execution_count": 17,
   "metadata": {
    "ExecuteTime": {
     "end_time": "2022-03-13T19:53:22.896810Z",
     "start_time": "2022-03-13T19:53:22.891505Z"
    }
   },
   "outputs": [
    {
     "name": "stdout",
     "output_type": "stream",
     "text": [
      "A[0]: [1. 2. 3.]\n",
      "A[1]: [4. 5. 6.]\n",
      "A[1, 2]: 6.0\n",
      "A[0][2]: 3.0\n"
     ]
    }
   ],
   "source": [
    "# = Matrix indexing = #\n",
    "\n",
    "# Simple indexing\n",
    "print(\"A[0]:\", A[0])\n",
    "print(\"A[1]:\", A[1])\n",
    "print(\"A[1, 2]:\", A[1, 2])  # More efficient\n",
    "print(\"A[0][2]:\", A[0][2])  # Less efficient"
   ]
  },
  {
   "cell_type": "code",
   "execution_count": 18,
   "metadata": {
    "ExecuteTime": {
     "end_time": "2022-03-13T19:53:22.903820Z",
     "start_time": "2022-03-13T19:53:22.899166Z"
    }
   },
   "outputs": [
    {
     "name": "stdout",
     "output_type": "stream",
     "text": [
      "A[1:2,0:1]: [[4.]]\n",
      "A[:-2,::2]: [[1. 3.]]\n",
      "Vector I, with numbers between 10 and 1:\n",
      "[10  9  8  7  6  5  4  3  2]\n"
     ]
    }
   ],
   "source": [
    "# -- Slicing\n",
    "\n",
    "# Rows between 1 and 2 (excluding the latter), \n",
    "# columns between 0 and 1 (excluding the latter)\n",
    "print(\"A[1:2,0:1]:\", A[1:2,0:1])\n",
    "\n",
    "# All rows except the last two,\n",
    "# every other column\n",
    "print(\"A[:-2,::2]:\", A[:-2,::2]) \n",
    "\n",
    "I = np.arange(10, 1, -1)\n",
    "print(\"Vector I, with numbers between 10 and 1:\")\n",
    "print(I)"
   ]
  },
  {
   "cell_type": "code",
   "execution_count": 19,
   "metadata": {
    "ExecuteTime": {
     "end_time": "2022-03-13T19:53:22.910192Z",
     "start_time": "2022-03-13T19:53:22.905795Z"
    }
   },
   "outputs": [
    {
     "name": "stdout",
     "output_type": "stream",
     "text": [
      "I[[3, 3, 1, 8]]: [7 7 9 2]\n",
      "I[np.array([3, 3, -3, 8])]: [7 7 4 2]\n",
      "I[np.array([[1, 1], [2, 3]])]: [[9 9]\n",
      " [8 7]]\n"
     ]
    }
   ],
   "source": [
    "# -- Matrices as indices\n",
    "\n",
    "# Indexing with a list\n",
    "print(\"I[[3, 3, 1, 8]]:\", I[[3, 3, 1, 8]])\n",
    "\n",
    "# Indexing with an nparray\n",
    "print(\"I[np.array([3, 3, -3, 8])]:\", I[np.array([3, 3, -3, 8])])\n",
    "\n",
    "# Indexing with an npmatrix\n",
    "print(\"I[np.array([[1, 1], [2, 3]])]:\", I[np.array([[1, 1], [2, 3]])])"
   ]
  },
  {
   "cell_type": "markdown",
   "metadata": {},
   "source": [
    "Several observations are in order:\n",
    "\n",
    "* The function `diag` can be used to build a diagonal matrix from a vector or extract a diagonal from a matrix. You can know more about this (and other) functions in numpy in the corresponding documentation or by using the help function. For example, to know more about the `diag` function, you can type `help(\"numpy.diag\")` in the Python prompt, to get something like:\n",
    "\n",
    "```\n",
    ">>> help(\"numpy.diag\")\n",
    "Help on function diag in numpy:\n",
    "\n",
    "numpy.diag = diag(v, k=0)\n",
    "    Extract a diagonal or construct a diagonal array.\n",
    "    \n",
    "    See the more detailed documentation for ``numpy.diagonal`` if you use this\n",
    "    function to extract a diagonal and wish to write to the resulting array;\n",
    "    whether it returns a copy or a view depends on what version of numpy you\n",
    "    are using.\n",
    "    \n",
    "    Parameters\n",
    "    ----------\n",
    "    v : array_like\n",
    "        If `v` is a 2-D array, return a copy of its `k`-th diagonal.\n",
    "        If `v` is a 1-D array, return a 2-D array with `v` on the `k`-th\n",
    "        diagonal.\n",
    "    k : int, optional\n",
    "        Diagonal in question. The default is 0. Use `k>0` for diagonals\n",
    "        above the main diagonal, and `k<0` for diagonals below the main\n",
    "        diagonal.\n",
    "    \n",
    "    Returns\n",
    "    -------\n",
    "    out : ndarray\n",
    "        The extracted diagonal or constructed diagonal array.\n",
    "    \n",
    "    See Also\n",
    "    --------\n",
    "    diagonal : Return specified diagonals.\n",
    "    diagflat : Create a 2-D array with the flattened input as a diagonal.\n",
    "    trace : Sum along diagonals.\n",
    "    triu : Upper triangle of an array.\n",
    "    tril : Lower triangle of an array.\n",
    "    \n",
    "    Examples\n",
    "    --------\n",
    "    >>> x = np.arange(9).reshape((3,3))\n",
    "    >>> x\n",
    "    array([[0, 1, 2],\n",
    "           [3, 4, 5],\n",
    "           [6, 7, 8]])\n",
    "    \n",
    "    >>> np.diag(x)\n",
    "    array([0, 4, 8])\n",
    "    >>> np.diag(x, k=1)\n",
    "    array([1, 5])\n",
    "    >>> np.diag(x, k=-1)\n",
    "    array([3, 7])\n",
    "    \n",
    "    >>> np.diag(np.diag(x))\n",
    "    array([[0, 0, 0],\n",
    "           [0, 4, 0],\n",
    "           [0, 0, 8]])\n",
    "```\n",
    "\n",
    "* You can add, multiply, transpose, invert matrices much as you would in linear algebra\n",
    "* Indexing and slicing are quite powerful operations. For example, you can use a matrix to index another.\n",
    "\n",
    "The ability to leverage the powerful indexing and vectorization capabilities of **numpy** is key to producing efficient code. It takes some time to get used to this programming philosophy, but once you do, you will notice an  improvement in the performance of your code. The impact of good vectorization in the efficiency of your code is illustrated in the following example."
   ]
  },
  {
   "cell_type": "code",
   "execution_count": 20,
   "metadata": {
    "ExecuteTime": {
     "end_time": "2022-03-13T19:53:23.536654Z",
     "start_time": "2022-03-13T19:53:22.911787Z"
    }
   },
   "outputs": [
    {
     "name": "stdout",
     "output_type": "stream",
     "text": [
      "Computation time with cycle (in seconds): 0.5400497913360596\n",
      "Computation time with numpy operation (in seconds): 0.0039861202239990234\n"
     ]
    }
   ],
   "source": [
    "import numpy.random as rnd\n",
    "import time\n",
    "\n",
    "A = rnd.rand(1000,1000)\n",
    "B = rnd.rand(1000,1000);\n",
    "C = np.zeros((1000,1000));\n",
    "\n",
    "t = time.time()\n",
    "\n",
    "for i in range(A.shape[0]):\n",
    "    for j in range(A.shape[1]):\n",
    "        C[i, j] = A[i, j] + B[i, j]\n",
    "    \n",
    "t1 = time.time() - t\n",
    "\n",
    "t = time.time()\n",
    "C = A + B;\n",
    "t2 = time.time() - t\n",
    "\n",
    "print(\"Computation time with cycle (in seconds):\", t1)\n",
    "print(\"Computation time with numpy operation (in seconds):\", t2)"
   ]
  },
  {
   "cell_type": "markdown",
   "metadata": {},
   "source": [
    "Besides illustrating the importance of optimizing your code to take full advantage of its matrix manipulation capabilities, the previous example introduces several additional elements of the **numpy** syntax, such as:\n",
    "\n",
    "* The `rand` function from the **numpy.random** module\n",
    "* The `shape` attribute"
   ]
  },
  {
   "cell_type": "markdown",
   "metadata": {},
   "source": [
    "The labs will consist of activities, marked in blocks titled **Activity XXX** like the one below. The activities in the lab today are just for fun---think of them as puzzles that allow you to practice some `numpy` programming. As such, no submission is necessary.\n",
    "\n",
    "---\n",
    "\n",
    "#### Activity 1.  Cycles vs vectorized operations      \n",
    "\n",
    "Compare the time necessary to compute the sum of two 100,000 &times; 1 random vectors using:\n",
    "\n",
    "* a for loop;\n",
    "* a vectorized operation.\n",
    "\n",
    "---"
   ]
  },
  {
   "cell_type": "code",
   "execution_count": 21,
   "metadata": {
    "ExecuteTime": {
     "end_time": "2022-03-13T19:53:23.540919Z",
     "start_time": "2022-03-13T19:53:23.538819Z"
    }
   },
   "outputs": [],
   "source": [
    "# Insert your code here."
   ]
  },
  {
   "cell_type": "markdown",
   "metadata": {},
   "source": [
    "---\n",
    "\n",
    "#### Activity 2. Mountain car problem\n",
    "\n",
    "Consider a car with a weak engine going up a tall mountain, as depicted in the following diagram:\n",
    "\n",
    "<img src=\"mountain-car.png\">\n",
    "\n",
    "The velocity of the car is given by\n",
    "\n",
    "$$v(t+1)=v(t)-\\frac{1}{400}\\cos(3p(t))+\\frac{u(t)}{1000},\\qquad v(t)\\in[-0.07,0.07]$$\n",
    "\n",
    "where $p(t)$ is the position of the car at time step $t$ and $u(t)$ is the acceleration action, which can be $1$ (positive acceleration), $0$ (do nothing) or $-1$ (negative acceleration). The position of the car, in turn, is given by\n",
    "\n",
    "$$p(t+1)=p(t)+v(t+1),\\qquad p(t)\\in[-1.2,0.6].$$\n",
    "\n",
    "Suppose that the car starts at position $p(0)=-\\pi/3+0.6$ with a velocity of $v(0)=0$. \n",
    "\n",
    "Simulate a 1000-step trajectory of the car when $u(t)=1$ (always accelerate) for $t=0,\\ldots,1000$. To do so, build a for loop from $t=0$ to $t=1000$ and use the equations above to compute $p(t)$ and $v(t)$. \n",
    "\n",
    "**Note:** Store all values of $p$ and $v$. Also, make sure that $p$ and $v$ stay within the provided bounds.\n",
    "\n",
    "---"
   ]
  },
  {
   "cell_type": "code",
   "execution_count": 22,
   "metadata": {
    "ExecuteTime": {
     "end_time": "2022-03-13T19:53:23.546310Z",
     "start_time": "2022-03-13T19:53:23.543277Z"
    }
   },
   "outputs": [],
   "source": [
    "# Insert your code here."
   ]
  },
  {
   "cell_type": "markdown",
   "metadata": {},
   "source": [
    "---\n",
    "\n",
    "#### Activity 3. Mountain car problem (cont.)\n",
    "\n",
    "Suppose now that, at each step $t$, the car driver selects $u(t)=1$ with probability $0.7$, $u(t)=0$ with probability $0.2$, and $u(t)=-1$ with probability $0.1$. Repeat Activity 2.\n",
    "\n",
    "**Note:** You may find useful the function `choice` from the module `numpy.random`.\n",
    "\n",
    "---"
   ]
  },
  {
   "cell_type": "code",
   "execution_count": 23,
   "metadata": {
    "ExecuteTime": {
     "end_time": "2022-03-13T19:53:23.546310Z",
     "start_time": "2022-03-13T19:53:23.543277Z"
    }
   },
   "outputs": [],
   "source": [
    "# Insert your code here."
   ]
  },
  {
   "cell_type": "markdown",
   "metadata": {},
   "source": [
    "### 3. Plotting\n",
    "\n",
    "The Python module **matplotlib** offers a number of plotting routines that are ideal to display scientific data. The following generates 100 perturbed samples from the function\n",
    "\n",
    "$$f(x) = 2x$$\n",
    "\n",
    "and uses these samples to estimate the function $f$."
   ]
  },
  {
   "cell_type": "code",
   "execution_count": 30,
   "metadata": {
    "ExecuteTime": {
     "end_time": "2022-03-13T19:53:23.867409Z",
     "start_time": "2022-03-13T19:53:23.548591Z"
    }
   },
   "outputs": [
    {
     "data": {
      "image/png": "[encoded data removed]",
      "text/plain": [
       "<Figure size 432x288 with 1 Axes>"
      ]
     },
     "metadata": {
      "needs_background": "light"
     },
     "output_type": "display_data"
    }
   ],
   "source": [
    "%matplotlib inline\n",
    "import matplotlib.pyplot as plt\n",
    "\n",
    "# Create data\n",
    "x = 100 * rnd.rand(100, 1)\n",
    "y = 2 * x + 10 * rnd.randn(100, 1)\n",
    "\n",
    "# Estimate linear relation between X and Y\n",
    "\n",
    "X = np.append(x, np.ones((100,1)), axis = 1)\n",
    "\n",
    "f_est = np.dot(np.linalg.pinv(X), y)\n",
    "y_est = np.dot(X, f_est)\n",
    "\n",
    "# Plot commands\n",
    "\n",
    "plt.figure()\n",
    "plt.plot(x, y_est)\n",
    "plt.plot(x, y, 'x')\n",
    "\n",
    "plt.xlabel('Input X');\n",
    "plt.ylabel('Output Y');\n",
    "\n",
    "plt.title('Linear regression');"
   ]
  },
  {
   "cell_type": "markdown",
   "metadata": {},
   "source": [
    "Consider more carefully the piece of code above, where we included line numbers for easier reference.\n",
    "\n",
    "* On lines 5 and 6, the vectors *x* and *y* are created, using mostly functionalities that you already encountered in Sections 1 and 2. The novelty is the function `randn` which is similar to the function `rand` except on their underlying distribution: while `rand` generates random numbers uniformly from the interval [0, 1], `randn` generates normally distributed random numbers with mean 0 and a standard deviation of 1.\n",
    "\n",
    "* Lines 10-13 estimate a linear relation between *x* and *y* using the data already created. Do not worry about the actual computations, and simply observe the use of matrix concatenation in line 10, and the `pinv` function in line 12. The function `pinv` computes the Moore-Penrose pseudo-inverse of a matrix (you can find more infor, for example, in [Wikipedia](https://en.wikipedia.org/wiki/Moore%E2%80%93Penrose_inverse))\n",
    "\n",
    "* Lines 17 through 24 contain the actual plotting commands. In particular:\n",
    "\n",
    "  * The figure command in line 17 creates a new figure.\n",
    "\n",
    "  * The plot command in line 18 is responsible for displaying the continuous line in the plot. In here, it is used with its most basic syntax. However, the plot command has a very rich syntax, and you can type `help(\"mplotlib.pyplot.plot\")` to know more about this useful function.\n",
    "  \n",
    "  * The plot command in line 19 plots the original data. Note how the line specification 'x' indicates that, unlike the plot in line 18, this data should not be plotted continuously but instead marking each data-point with an \"&times;\".\n",
    "  \n",
    "* Finally, the commands in lines 21 to 24 are used to include additional information in the plot, such as the labels for both axis and the title for the plot."
   ]
  },
  {
   "cell_type": "markdown",
   "metadata": {},
   "source": [
    "---\n",
    "\n",
    "#### Activity 4. Mountain car problem (cont.)\n",
    "\n",
    "Plot in the same axis the position $p$ of the car as a function of $t$ as observed in Activities 2 and 3. What do you observe?\n",
    "\n",
    "---"
   ]
  },
  {
   "cell_type": "code",
   "execution_count": 25,
   "metadata": {
    "ExecuteTime": {
     "end_time": "2022-03-13T19:53:23.873518Z",
     "start_time": "2022-03-13T19:53:23.869642Z"
    }
   },
   "outputs": [],
   "source": [
    "# Insert your code here."
   ]
  },
  {
   "cell_type": "markdown",
   "metadata": {},
   "source": [
    "<font color='blue'>[Insert your comments here.]</font>"
   ]
  },
  {
   "cell_type": "markdown",
   "metadata": {},
   "source": [
    "---\n",
    "\n",
    "#### Activity 5. Mountain car problem (conc.)\n",
    "\n",
    "Suppose now that the driver selects $u(t)=-1$ until it reaches the position $p(t)=-0.85$ and then selects $u(t)=1$. Repeact Activity 2 and plot the three trajectories you obtained. What can you observe?\n",
    "\n",
    "---"
   ]
  },
  {
   "cell_type": "code",
   "execution_count": 26,
   "metadata": {},
   "outputs": [],
   "source": [
    "# Insert your code here."
   ]
  },
  {
   "cell_type": "markdown",
   "metadata": {},
   "source": [
    "---\n",
    "\n",
    "#### Activity 6. Saving and exporting\n",
    "\n",
    "Export your file as a Python script. In particular:\n",
    "\n",
    "* Go to the menu \"**File**\", select the option \"**Download as &#x27A4;**\" and then \"**Python (.py)**\".\n",
    "* Name your file `padi-lab0-groupXXX.py`, where you replace `XXX` by your group number.\n",
    "\n",
    "Open the resulting Python file. Note that all the markdown in this notebook is converted to comments in the resulting Python file. \n",
    "\n",
    "* Delete **all** comments in the Python file, keeping only the \"pure\" Python code.\n",
    "\n",
    "At some point in the python file, you will find the line:\n",
    "\n",
    "`get_ipython().run_line_magic('matplotlib', 'notebook')`\n",
    "\n",
    "This is a line used by Jupyter and which will yield an error if the Python script is executed as is. \n",
    "\n",
    "* Remove the aforementioned line.\n",
    "* Run the resulting file. To do so, you can open a terminal window and execute the shell command `python padi-lab0-grouXXX.py`. Verify that everything works properly. \n",
    "\n",
    "In future labs, you should always follow these steps to make sure that everything works properly before submitting a lab assignment.\n",
    "\n",
    "---"
   ]
  },
  {
   "cell_type": "code",
   "execution_count": null,
   "metadata": {},
   "outputs": [],
   "source": []
  }
 ],
 "metadata": {
  "kernelspec": {
   "display_name": "base",
   "language": "python",
   "name": "python3"
  },
  "language_info": {
   "codemirror_mode": {
    "name": "ipython",
    "version": 3
   },
   "file_extension": ".py",
   "mimetype": "text/x-python",
   "name": "python",
   "nbconvert_exporter": "python",
   "pygments_lexer": "ipython3",
   "version": "3.8.12"
  },
  "latex_envs": {
   "LaTeX_envs_menu_present": true,
   "autoclose": false,
   "autocomplete": true,
   "bibliofile": "biblio.bib",
   "cite_by": "apalike",
   "current_citInitial": 1,
   "eqLabelWithNumbers": true,
   "eqNumInitial": 1,
   "hotkeys": {
    "equation": "Ctrl-E",
    "itemize": "Ctrl-I"
   },
   "labels_anchors": false,
   "latex_user_defs": false,
   "report_style_numbering": false,
   "user_envs_cfg": false
  },
  "vscode": {
   "interpreter": {
    "hash": "ad2bdc8ecc057115af97d19610ffacc2b4e99fae6737bb82f5d7fb13d2f2c186"
   }
  }
 },
 "nbformat": 4,
 "nbformat_minor": 1
}
